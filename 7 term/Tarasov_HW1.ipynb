{
 "cells": [
  {
   "cell_type": "markdown",
   "metadata": {},
   "source": [
    "{'mail': 'tarasov.rb@phystech.edu',\n",
    "\n",
    " 'id': 324115777,\n",
    " \n",
    " 'type': 'regression',\n",
    " \n",
    " 'dataset': {'name': 'Diabetes Data Set',\n",
    " \n",
    "  'url': 'https://scikit-learn.org/stable/modules/generated/sklearn.datasets.load_diabetes.html#sklearn.datasets.load_diabetes'},\n",
    "  \n",
    " 'method': 'Надарая-Ватсона', 'SVR', 'Линейная регрессия'}"
   ]
  },
  {
   "cell_type": "code",
   "execution_count": 1,
   "metadata": {},
   "outputs": [],
   "source": [
    "import numpy as np\n",
    "import math\n",
    "import matplotlib.pyplot as plt\n",
    "from sklearn.datasets import load_diabetes\n",
    "from sklearn.model_selection import train_test_split\n",
    "from sklearn.linear_model import LinearRegression, Ridge, Lasso\n",
    "from sklearn.metrics import mean_squared_error, mean_absolute_error, mean_absolute_percentage_error\n",
    "from sklearn.preprocessing import StandardScaler\n",
    "from sklearn.svm import SVR\n",
    "from scipy.spatial.distance import cdist"
   ]
  },
  {
   "cell_type": "code",
   "execution_count": 2,
   "metadata": {},
   "outputs": [],
   "source": [
    "class FNV(object):\n",
    "    def __init__(self, kernel=None):\n",
    "        self.X, self.Y = None, None\n",
    "        self.kernel = lambda x: np.ones_like(x)\n",
    "        if kernel is not None:\n",
    "            self.kernel = kernel\n",
    "    def predict(self, X):\n",
    "        features = np.sum(self.Y*self.kernel(cdist(X, self.X)), axis=-1)\n",
    "        return features/(np.sum(self.kernel(cdist(X, self.X)), axis=-1)+1e-10)\n",
    "    def fit(self, X, Y, epoch=10):\n",
    "        self.X, self.Y = np.array(X), np.array(Y)"
   ]
  },
  {
   "cell_type": "code",
   "execution_count": 3,
   "metadata": {},
   "outputs": [],
   "source": [
    "data = load_diabetes()"
   ]
  },
  {
   "cell_type": "code",
   "execution_count": 4,
   "metadata": {},
   "outputs": [
    {
     "data": {
      "text/plain": [
       "['age', 'sex', 'bmi', 'bp', 's1', 's2', 's3', 's4', 's5', 's6']"
      ]
     },
     "execution_count": 4,
     "metadata": {},
     "output_type": "execute_result"
    }
   ],
   "source": [
    "data.feature_names"
   ]
  },
  {
   "cell_type": "markdown",
   "metadata": {},
   "source": [
    "Посмотрим информацию о признаках. "
   ]
  },
  {
   "cell_type": "code",
   "execution_count": 5,
   "metadata": {},
   "outputs": [
    {
     "name": "stdout",
     "output_type": "stream",
     "text": [
      ".. _diabetes_dataset:\n",
      "\n",
      "Diabetes dataset\n",
      "----------------\n",
      "\n",
      "Ten baseline variables, age, sex, body mass index, average blood\n",
      "pressure, and six blood serum measurements were obtained for each of n =\n",
      "442 diabetes patients, as well as the response of interest, a\n",
      "quantitative measure of disease progression one year after baseline.\n",
      "\n",
      "**Data Set Characteristics:**\n",
      "\n",
      "  :Number of Instances: 442\n",
      "\n",
      "  :Number of Attributes: First 10 columns are numeric predictive values\n",
      "\n",
      "  :Target: Column 11 is a quantitative measure of disease progression one year after baseline\n",
      "\n",
      "  :Attribute Information:\n",
      "      - age     age in years\n",
      "      - sex\n",
      "      - bmi     body mass index\n",
      "      - bp      average blood pressure\n",
      "      - s1      tc, T-Cells (a type of white blood cells)\n",
      "      - s2      ldl, low-density lipoproteins\n",
      "      - s3      hdl, high-density lipoproteins\n",
      "      - s4      tch, thyroid stimulating hormone\n",
      "      - s5      ltg, lamotrigine\n",
      "      - s6      glu, blood sugar level\n",
      "\n",
      "Note: Each of these 10 feature variables have been mean centered and scaled by the standard deviation times `n_samples` (i.e. the sum of squares of each column totals 1).\n",
      "\n",
      "Source URL:\n",
      "https://www4.stat.ncsu.edu/~boos/var.select/diabetes.html\n",
      "\n",
      "For more information see:\n",
      "Bradley Efron, Trevor Hastie, Iain Johnstone and Robert Tibshirani (2004) \"Least Angle Regression,\" Annals of Statistics (with discussion), 407-499.\n",
      "(https://web.stanford.edu/~hastie/Papers/LARS/LeastAngle_2002.pdf)\n"
     ]
    }
   ],
   "source": [
    "print(data.DESCR)"
   ]
  },
  {
   "cell_type": "markdown",
   "metadata": {},
   "source": [
    "Как видим, их всего 10, из них признак 'sex' категориальный, остальные вещественные. Но в наших загруженных данных 'sex' уже преобразован в вещественный. \n",
    "\n",
    "Целевой признак вещественный --- степень прогресса болезни. Имеем дело с задачей регрессии."
   ]
  },
  {
   "cell_type": "code",
   "execution_count": 6,
   "metadata": {},
   "outputs": [],
   "source": [
    "X = data.data\n",
    "Y = data.target\n",
    "\n",
    "X_train, X_test, Y_train, Y_test = train_test_split(X, Y, train_size = 0.8, random_state=42)"
   ]
  },
  {
   "cell_type": "code",
   "execution_count": 7,
   "metadata": {},
   "outputs": [
    {
     "name": "stdout",
     "output_type": "stream",
     "text": [
      "25.0 346.0\n"
     ]
    }
   ],
   "source": [
    "print(min(Y), max(Y))"
   ]
  },
  {
   "cell_type": "markdown",
   "metadata": {},
   "source": [
    "Выполним нормировку данных"
   ]
  },
  {
   "cell_type": "code",
   "execution_count": 8,
   "metadata": {},
   "outputs": [],
   "source": [
    "scaler = StandardScaler()\n",
    "scaler.fit(X_train)\n",
    "\n",
    "X_train = scaler.transform(X_train)\n",
    "X_test = scaler.transform(X_test)"
   ]
  },
  {
   "cell_type": "markdown",
   "metadata": {},
   "source": [
    "### Линейная регрессия\n",
    "\n",
    "Попробуем сначала линейную регрессию. В качестве метрики качества возьмём MSE. Также будем выводить mean absolute percentage error -- на какую долю в среднем мы ошибаемся.\n",
    "\n",
    "Сначала запустим без регуляризации:"
   ]
  },
  {
   "cell_type": "code",
   "execution_count": 9,
   "metadata": {},
   "outputs": [
    {
     "name": "stdout",
     "output_type": "stream",
     "text": [
      "MSE = 2900.173287883232\n",
      "MAPE = 0.3266573645839748\n"
     ]
    }
   ],
   "source": [
    "model = LinearRegression()\n",
    "model.fit(X_train, Y_train)\n",
    "Y_pred = model.predict(X_test)\n",
    "print(\"MSE =\", mean_squared_error(Y_pred, Y_test))\n",
    "print(\"MAPE =\", mean_absolute_percentage_error(Y_pred, Y_test))"
   ]
  },
  {
   "cell_type": "markdown",
   "metadata": {},
   "source": [
    "Теперь с L2 и L1-регуляризацией. Экспериментально установил, что при коэффициентах регуляризации alpha_ridge = 100 и alpha_lasso = 2 у нас наилучшая точность."
   ]
  },
  {
   "cell_type": "code",
   "execution_count": 10,
   "metadata": {},
   "outputs": [
    {
     "name": "stdout",
     "output_type": "stream",
     "text": [
      "MSE = 2858.2204051303684\n",
      "MAPE = 0.31158070937800936\n"
     ]
    }
   ],
   "source": [
    "model = Ridge(alpha = 100)\n",
    "model.fit(X_train, Y_train)\n",
    "Y_pred = model.predict(X_test)\n",
    "print(\"MSE =\", mean_squared_error(Y_pred, Y_test))\n",
    "print(\"MAPE =\", mean_absolute_percentage_error(Y_pred, Y_test))"
   ]
  },
  {
   "cell_type": "code",
   "execution_count": 11,
   "metadata": {},
   "outputs": [
    {
     "name": "stdout",
     "output_type": "stream",
     "text": [
      "MSE = 2798.849444458188\n",
      "MAPE = 0.31275185486547474\n"
     ]
    },
    {
     "data": {
      "text/plain": [
       "array([  0.        ,  -7.42688613,  26.14131077,  14.7357929 ,\n",
       "        -4.06586241,  -0.        , -10.87127975,   0.        ,\n",
       "        21.50433126,   1.46725679])"
      ]
     },
     "execution_count": 11,
     "metadata": {},
     "output_type": "execute_result"
    }
   ],
   "source": [
    "model = Lasso(alpha = 2)\n",
    "model.fit(X_train, Y_train)\n",
    "Y_pred = model.predict(X_test)\n",
    "print(\"MSE =\", mean_squared_error(Y_pred, Y_test))\n",
    "print(\"MAPE =\", mean_absolute_percentage_error(Y_pred, Y_test))\n",
    "model.coef_"
   ]
  },
  {
   "cell_type": "markdown",
   "metadata": {},
   "source": [
    "### Метод опорных векторов\n",
    "\n",
    "Посмотрим на SVR с различными ядрами. Оптимальные коэффициенты регуляризации подобраны экспериментально."
   ]
  },
  {
   "cell_type": "code",
   "execution_count": 12,
   "metadata": {},
   "outputs": [
    {
     "name": "stdout",
     "output_type": "stream",
     "text": [
      "MSE = 2939.834541736351\n",
      "MAPE = 0.32409345729775185\n"
     ]
    }
   ],
   "source": [
    "model = SVR(kernel = 'linear')\n",
    "model.fit(X_train, Y_train)\n",
    "Y_pred = model.predict(X_test)\n",
    "print(\"MSE =\", mean_squared_error(Y_pred, Y_test))\n",
    "print(\"MAPE =\", mean_absolute_percentage_error(Y_pred, Y_test))"
   ]
  },
  {
   "cell_type": "code",
   "execution_count": 13,
   "metadata": {},
   "outputs": [
    {
     "name": "stdout",
     "output_type": "stream",
     "text": [
      "MSE = 2934.55335133381\n",
      "MAPE = 0.32057667361987113\n"
     ]
    }
   ],
   "source": [
    "model = SVR(kernel = 'linear', C=2)\n",
    "model.fit(X_train, Y_train)\n",
    "Y_pred = model.predict(X_test)\n",
    "print(\"MSE =\", mean_squared_error(Y_pred, Y_test))\n",
    "print(\"MAPE =\", mean_absolute_percentage_error(Y_pred, Y_test))"
   ]
  },
  {
   "cell_type": "code",
   "execution_count": 14,
   "metadata": {},
   "outputs": [
    {
     "name": "stdout",
     "output_type": "stream",
     "text": [
      "MSE = 3645.2277738992616\n",
      "MAPE = 0.3513778935190822\n"
     ]
    }
   ],
   "source": [
    "model = SVR(kernel = 'poly', degree = 3, C=4)\n",
    "model.fit(X_train, Y_train)\n",
    "Y_pred = model.predict(X_test)\n",
    "print(\"MSE =\", mean_squared_error(Y_pred, Y_test))\n",
    "print(\"MAPE =\", mean_absolute_percentage_error(Y_pred, Y_test))"
   ]
  },
  {
   "cell_type": "code",
   "execution_count": 15,
   "metadata": {},
   "outputs": [
    {
     "name": "stdout",
     "output_type": "stream",
     "text": [
      "MSE = 2508.779062049636\n",
      "MAPE = 0.3030605694634442\n"
     ]
    }
   ],
   "source": [
    "model = SVR(kernel = 'rbf',  C=42)\n",
    "model.fit(X_train, Y_train)\n",
    "Y_pred = model.predict(X_test)\n",
    "print(\"MSE =\", mean_squared_error(Y_pred, Y_test))\n",
    "print(\"MAPE =\", mean_absolute_percentage_error(Y_pred, Y_test))"
   ]
  },
  {
   "cell_type": "code",
   "execution_count": 16,
   "metadata": {},
   "outputs": [
    {
     "name": "stdout",
     "output_type": "stream",
     "text": [
      "MSE = 2905.7765333603047\n",
      "MAPE = 0.31528215717265623\n"
     ]
    }
   ],
   "source": [
    "model = SVR(kernel = 'sigmoid', C=5)\n",
    "model.fit(X_train, Y_train)\n",
    "Y_pred = model.predict(X_test)\n",
    "print(\"MSE =\", mean_squared_error(Y_pred, Y_test))\n",
    "print(\"MAPE =\", mean_absolute_percentage_error(Y_pred, Y_test))"
   ]
  },
  {
   "cell_type": "markdown",
   "metadata": {},
   "source": [
    "### Формула Надарая-Ватсона\n",
    "\n",
    "Теперь попробуем по формуле Надарая-Ватсона с различными ядрами. Оптимальное значение ширины окна $h$ подбираем экспериментально. "
   ]
  },
  {
   "cell_type": "code",
   "execution_count": 17,
   "metadata": {},
   "outputs": [
    {
     "name": "stdout",
     "output_type": "stream",
     "text": [
      "MSE = 3075.4099118099402\n",
      "MAPE = 0.3238051949256383\n"
     ]
    }
   ],
   "source": [
    "def K_square(distance, h=0.2): # Квадратичное\n",
    "    ret = np.array(distance)/h\n",
    "    return (1 - ret**2) * (np.abs(ret) <= 1)\n",
    "\n",
    "model = FNV(kernel = lambda x: K_square(x, h=3))\n",
    "model.fit(X_train, Y_train)\n",
    "Y_pred = model.predict(X_test)\n",
    "print(\"MSE =\", mean_squared_error(Y_pred, Y_test))\n",
    "print(\"MAPE =\", mean_absolute_percentage_error(Y_pred, Y_test))"
   ]
  },
  {
   "cell_type": "code",
   "execution_count": 18,
   "metadata": {},
   "outputs": [
    {
     "name": "stdout",
     "output_type": "stream",
     "text": [
      "MSE = 3158.320815001298\n",
      "MAPE = 0.32897358098522905\n"
     ]
    }
   ],
   "source": [
    "def K_rect(distance, h=0.2): # Прямоугольное\n",
    "    ret = np.array(distance)/h\n",
    "    return (np.abs(ret) <= 1)\n",
    "\n",
    "model = FNV(kernel = lambda x: K_rect(x, h=3))\n",
    "model.fit(X_train, Y_train)\n",
    "Y_pred = model.predict(X_test)\n",
    "print(\"MSE =\", mean_squared_error(Y_pred, Y_test))\n",
    "print(\"MAPE =\", mean_absolute_percentage_error(Y_pred, Y_test))"
   ]
  },
  {
   "cell_type": "code",
   "execution_count": 19,
   "metadata": {},
   "outputs": [
    {
     "name": "stdout",
     "output_type": "stream",
     "text": [
      "MSE = 3059.064461140871\n",
      "MAPE = 0.32257274355744364\n"
     ]
    }
   ],
   "source": [
    "def K_trian(distance, h=0.2): # Треугольное\n",
    "    ret = np.array(distance)/h\n",
    "    return (1 - abs(ret)) * (np.abs(ret) <= 1)\n",
    "\n",
    "model = FNV(kernel = lambda x: K_trian(x, h=3))\n",
    "model.fit(X_train, Y_train)\n",
    "Y_pred = model.predict(X_test)\n",
    "print(\"MSE =\", mean_squared_error(Y_pred, Y_test))\n",
    "print(\"MAPE =\", mean_absolute_percentage_error(Y_pred, Y_test))"
   ]
  },
  {
   "cell_type": "code",
   "execution_count": 20,
   "metadata": {},
   "outputs": [
    {
     "name": "stdout",
     "output_type": "stream",
     "text": [
      "MSE = 3039.178193643514\n",
      "MAPE = 0.3195826583379447\n"
     ]
    }
   ],
   "source": [
    "def K_quartic(distance, h=0.2): # Квартическое\n",
    "    ret = np.array(distance) / h\n",
    "    return (1 - ret**2)**2 * (np.abs(ret) <= 1)\n",
    "\n",
    "model = FNV(kernel = lambda x: K_quartic(x, h=3))\n",
    "model.fit(X_train, Y_train)\n",
    "Y_pred = model.predict(X_test)\n",
    "print(\"MSE =\", mean_squared_error(Y_pred, Y_test))\n",
    "print(\"MAPE =\", mean_absolute_percentage_error(Y_pred, Y_test))"
   ]
  },
  {
   "cell_type": "code",
   "execution_count": 21,
   "metadata": {},
   "outputs": [
    {
     "name": "stdout",
     "output_type": "stream",
     "text": [
      "MSE = 3278.2907981940225\n",
      "MAPE = 0.33281302922788747\n"
     ]
    }
   ],
   "source": [
    "def K_exp(distance): # Гауссовское\n",
    "    ret = np.array(distance)\n",
    "    return math.e ** (-2 * ret**2)\n",
    "\n",
    "model = FNV(kernel = K_exp)\n",
    "model.fit(X_train, Y_train)\n",
    "Y_pred = model.predict(X_test)\n",
    "print(\"MSE =\", mean_squared_error(Y_pred, Y_test))\n",
    "print(\"MAPE =\", mean_absolute_percentage_error(Y_pred, Y_test))"
   ]
  },
  {
   "cell_type": "markdown",
   "metadata": {},
   "source": [
    "### Отбор признаков\n",
    "\n",
    "Сделаем отбор признаков, убирая те из них, для которых зануляются коэффициенты при LASSO-регуляризации. Наименьшее значние у MSE было когда при LASSO-регуляризации занулились признаки 0, 5, 7. Экспериментально установил, что сначала зануляется коэффициент при признаке номер 5, затем при 7 и при 0.\n",
    "\n",
    "Сначала уберём пятый признак. И протестируем без него некоторые модели."
   ]
  },
  {
   "cell_type": "code",
   "execution_count": 22,
   "metadata": {},
   "outputs": [
    {
     "data": {
      "text/plain": [
       "(442, 9)"
      ]
     },
     "execution_count": 22,
     "metadata": {},
     "output_type": "execute_result"
    }
   ],
   "source": [
    "Z = np.array([(X.T)[0], (X.T)[1], (X.T)[2], (X.T)[3], (X.T)[4], (X.T)[6], (X.T)[7], (X.T)[8], (X.T)[9]]).T # Without 5\n",
    "Z.shape"
   ]
  },
  {
   "cell_type": "code",
   "execution_count": 23,
   "metadata": {},
   "outputs": [],
   "source": [
    "Z_train, Z_test, Y_train, Y_test = train_test_split(Z, Y, train_size = 0.8, random_state=42)"
   ]
  },
  {
   "cell_type": "code",
   "execution_count": 24,
   "metadata": {},
   "outputs": [
    {
     "name": "stdout",
     "output_type": "stream",
     "text": [
      "MSE = 2900.243154190635\n",
      "MAPE = 0.32076193465343467\n"
     ]
    }
   ],
   "source": [
    "model = LinearRegression()\n",
    "model.fit(Z_train, Y_train)\n",
    "Y_pred = model.predict(Z_test)\n",
    "print(\"MSE =\", mean_squared_error(Y_pred, Y_test))\n",
    "print(\"MAPE =\", mean_absolute_percentage_error(Y_pred, Y_test))"
   ]
  },
  {
   "cell_type": "code",
   "execution_count": 25,
   "metadata": {},
   "outputs": [
    {
     "name": "stdout",
     "output_type": "stream",
     "text": [
      "MSE = 2389.5159643133843\n",
      "MAPE = 0.29098916808050734\n"
     ]
    }
   ],
   "source": [
    "model = SVR(kernel = 'rbf', C = 35)\n",
    "model.fit(Z_train, Y_train)\n",
    "Y_pred = model.predict(Z_test)\n",
    "print(\"MSE =\", mean_squared_error(Y_pred, Y_test))\n",
    "print(\"MAPE =\", mean_absolute_percentage_error(Y_pred, Y_test))"
   ]
  },
  {
   "cell_type": "code",
   "execution_count": 26,
   "metadata": {},
   "outputs": [
    {
     "name": "stdout",
     "output_type": "stream",
     "text": [
      "MSE = 2847.9679284806266\n",
      "MAPE = 0.3112884858184706\n"
     ]
    }
   ],
   "source": [
    "model = Ridge(alpha = 0.2)\n",
    "model.fit(Z_train, Y_train)\n",
    "Y_pred = model.predict(Z_test)\n",
    "print(\"MSE =\", mean_squared_error(Y_pred, Y_test))\n",
    "print(\"MAPE =\", mean_absolute_percentage_error(Y_pred, Y_test))"
   ]
  },
  {
   "cell_type": "code",
   "execution_count": 27,
   "metadata": {},
   "outputs": [
    {
     "name": "stdout",
     "output_type": "stream",
     "text": [
      "MSE = 2798.2394798511846\n",
      "MAPE = 0.312681066374868\n"
     ]
    },
    {
     "data": {
      "text/plain": [
       "array([   0.        , -152.6359861 ,  552.75020915,  303.37206485,\n",
       "        -81.37917519, -229.23046556,    0.        ,  447.90663478,\n",
       "         29.63249077])"
      ]
     },
     "execution_count": 27,
     "metadata": {},
     "output_type": "execute_result"
    }
   ],
   "source": [
    "model = Lasso(alpha = 0.1)\n",
    "model.fit(Z_train, Y_train)\n",
    "Y_pred = model.predict(Z_test)\n",
    "print(\"MSE =\", mean_squared_error(Y_pred, Y_test))\n",
    "print(\"MAPE =\", mean_absolute_percentage_error(Y_pred, Y_test))\n",
    "model.coef_"
   ]
  },
  {
   "cell_type": "markdown",
   "metadata": {},
   "source": [
    "Видим, что точность предсказания улучшилась"
   ]
  },
  {
   "cell_type": "markdown",
   "metadata": {},
   "source": [
    "Теперь уберём ещё и седьмой"
   ]
  },
  {
   "cell_type": "code",
   "execution_count": 28,
   "metadata": {},
   "outputs": [
    {
     "data": {
      "text/plain": [
       "(442, 8)"
      ]
     },
     "execution_count": 28,
     "metadata": {},
     "output_type": "execute_result"
    }
   ],
   "source": [
    "Z = np.array([(X.T)[0], (X.T)[1], (X.T)[2], (X.T)[3], (X.T)[4], (X.T)[6],  (X.T)[8], (X.T)[9]]).T # Without 5, 7\n",
    "Z.shape"
   ]
  },
  {
   "cell_type": "code",
   "execution_count": 29,
   "metadata": {},
   "outputs": [],
   "source": [
    "Z_train, Z_test, Y_train, Y_test = train_test_split(Z, Y, train_size = 0.8, random_state=42)"
   ]
  },
  {
   "cell_type": "code",
   "execution_count": 30,
   "metadata": {},
   "outputs": [
    {
     "name": "stdout",
     "output_type": "stream",
     "text": [
      "MSE = 2858.8990399182303\n",
      "MAPE = 0.3205026936921082\n"
     ]
    }
   ],
   "source": [
    "model = LinearRegression()\n",
    "model.fit(Z_train, Y_train)\n",
    "Y_pred = model.predict(Z_test)\n",
    "print(\"MSE =\", mean_squared_error(Y_pred, Y_test))\n",
    "print(\"MAPE =\", mean_absolute_percentage_error(Y_pred, Y_test))"
   ]
  },
  {
   "cell_type": "code",
   "execution_count": 31,
   "metadata": {},
   "outputs": [
    {
     "name": "stdout",
     "output_type": "stream",
     "text": [
      "MSE = 2390.9261830299783\n",
      "MAPE = 0.28941820902209175\n"
     ]
    }
   ],
   "source": [
    "model = SVR(kernel = 'rbf', C = 30)\n",
    "model.fit(Z_train, Y_train)\n",
    "Y_pred = model.predict(Z_test)\n",
    "print(\"MSE =\", mean_squared_error(Y_pred, Y_test))\n",
    "print(\"MAPE =\", mean_absolute_percentage_error(Y_pred, Y_test))"
   ]
  },
  {
   "cell_type": "code",
   "execution_count": 32,
   "metadata": {},
   "outputs": [
    {
     "name": "stdout",
     "output_type": "stream",
     "text": [
      "MSE = 2825.5730204436722\n",
      "MAPE = 0.3112771384975224\n"
     ]
    }
   ],
   "source": [
    "model = Ridge(alpha = 0.15)\n",
    "model.fit(Z_train, Y_train)\n",
    "Y_pred = model.predict(Z_test)\n",
    "print(\"MSE =\", mean_squared_error(Y_pred, Y_test))\n",
    "print(\"MAPE =\", mean_absolute_percentage_error(Y_pred, Y_test))"
   ]
  },
  {
   "cell_type": "code",
   "execution_count": 33,
   "metadata": {},
   "outputs": [
    {
     "name": "stdout",
     "output_type": "stream",
     "text": [
      "MSE = 2798.2399133966\n",
      "MAPE = 0.31268110966491425\n"
     ]
    },
    {
     "data": {
      "text/plain": [
       "array([   0.        , -152.63561565,  552.75074426,  303.37174318,\n",
       "        -81.37970821, -229.22979872,  447.90646746,   29.63277949])"
      ]
     },
     "execution_count": 33,
     "metadata": {},
     "output_type": "execute_result"
    }
   ],
   "source": [
    "model = Lasso(alpha = 0.1)\n",
    "model.fit(Z_train, Y_train)\n",
    "Y_pred = model.predict(Z_test)\n",
    "print(\"MSE =\", mean_squared_error(Y_pred, Y_test))\n",
    "print(\"MAPE =\", mean_absolute_percentage_error(Y_pred, Y_test))\n",
    "model.coef_"
   ]
  },
  {
   "cell_type": "markdown",
   "metadata": {},
   "source": [
    "Уберём нулевой"
   ]
  },
  {
   "cell_type": "code",
   "execution_count": 34,
   "metadata": {},
   "outputs": [
    {
     "data": {
      "text/plain": [
       "(442, 7)"
      ]
     },
     "execution_count": 34,
     "metadata": {},
     "output_type": "execute_result"
    }
   ],
   "source": [
    "Z = np.array([ (X.T)[1], (X.T)[2], (X.T)[3], (X.T)[4], (X.T)[6],  (X.T)[8], (X.T)[9]]).T # Without 0, 5, 7\n",
    "Z.shape"
   ]
  },
  {
   "cell_type": "code",
   "execution_count": 35,
   "metadata": {},
   "outputs": [],
   "source": [
    "Z_train, Z_test, Y_train, Y_test = train_test_split(Z, Y, train_size = 0.8, random_state=42)"
   ]
  },
  {
   "cell_type": "code",
   "execution_count": 36,
   "metadata": {},
   "outputs": [
    {
     "name": "stdout",
     "output_type": "stream",
     "text": [
      "MSE = 2828.897521754372\n",
      "MAPE = 0.3171342536562802\n"
     ]
    }
   ],
   "source": [
    "model = LinearRegression()\n",
    "model.fit(Z_train, Y_train)\n",
    "Y_pred = model.predict(Z_test)\n",
    "print(\"MSE =\", mean_squared_error(Y_pred, Y_test))\n",
    "print(\"MAPE =\", mean_absolute_percentage_error(Y_pred, Y_test))"
   ]
  },
  {
   "cell_type": "code",
   "execution_count": 37,
   "metadata": {},
   "outputs": [
    {
     "name": "stdout",
     "output_type": "stream",
     "text": [
      "MSE = 2460.3982243679643\n",
      "MAPE = 0.29751114184855315\n"
     ]
    }
   ],
   "source": [
    "model = SVR(kernel = 'rbf', C = 25)\n",
    "model.fit(Z_train, Y_train)\n",
    "Y_pred = model.predict(Z_test)\n",
    "print(\"MSE =\", mean_squared_error(Y_pred, Y_test))\n",
    "print(\"MAPE =\", mean_absolute_percentage_error(Y_pred, Y_test))"
   ]
  },
  {
   "cell_type": "code",
   "execution_count": 38,
   "metadata": {},
   "outputs": [
    {
     "name": "stdout",
     "output_type": "stream",
     "text": [
      "MSE = 2796.737409747768\n",
      "MAPE = 0.30735821937766866\n"
     ]
    }
   ],
   "source": [
    "model = Ridge(alpha = 0.15)\n",
    "model.fit(Z_train, Y_train)\n",
    "Y_pred = model.predict(Z_test)\n",
    "print(\"MSE =\", mean_squared_error(Y_pred, Y_test))\n",
    "print(\"MAPE =\", mean_absolute_percentage_error(Y_pred, Y_test))"
   ]
  },
  {
   "cell_type": "code",
   "execution_count": 39,
   "metadata": {},
   "outputs": [
    {
     "name": "stdout",
     "output_type": "stream",
     "text": [
      "MSE = 2798.2404515363482\n",
      "MAPE = 0.3126803083970271\n"
     ]
    },
    {
     "data": {
      "text/plain": [
       "array([-152.63017134,  552.75373077,  303.35883942,  -81.39898141,\n",
       "       -229.21037658,  447.90764357,   29.64673454])"
      ]
     },
     "execution_count": 39,
     "metadata": {},
     "output_type": "execute_result"
    }
   ],
   "source": [
    "model = Lasso(alpha = 0.1)\n",
    "model.fit(Z_train, Y_train)\n",
    "Y_pred = model.predict(Z_test)\n",
    "print(\"MSE =\", mean_squared_error(Y_pred, Y_test))\n",
    "print(\"MAPE =\", mean_absolute_percentage_error(Y_pred, Y_test))\n",
    "model.coef_"
   ]
  },
  {
   "cell_type": "code",
   "execution_count": 40,
   "metadata": {},
   "outputs": [
    {
     "name": "stdout",
     "output_type": "stream",
     "text": [
      "MSE = 3278.2907981940225\n",
      "MAPE = 0.33281302922788747\n"
     ]
    }
   ],
   "source": [
    "def K_exp(distance): # Гауссовское ядро, метод Надарая-Ватсона\n",
    "    ret = np.array(distance)\n",
    "    return math.e ** (-2 * ret**2)\n",
    "\n",
    "model = FNV(kernel = K_exp)\n",
    "model.fit(X_train, Y_train)\n",
    "Y_pred = model.predict(X_test)\n",
    "print(\"MSE =\", mean_squared_error(Y_pred, Y_test))\n",
    "print(\"MAPE =\", mean_absolute_percentage_error(Y_pred, Y_test))"
   ]
  },
  {
   "cell_type": "markdown",
   "metadata": {},
   "source": [
    "### Уменьшение размерности"
   ]
  },
  {
   "cell_type": "markdown",
   "metadata": {},
   "source": [
    "Теперь применим SVD-разложение для уменьшения размерности."
   ]
  },
  {
   "cell_type": "code",
   "execution_count": 41,
   "metadata": {},
   "outputs": [
    {
     "data": {
      "text/plain": [
       "True"
      ]
     },
     "execution_count": 41,
     "metadata": {},
     "output_type": "execute_result"
    }
   ],
   "source": [
    "U, D, Vh = np.linalg.svd(X, full_matrices=False)\n",
    "np.allclose(X, np.dot(U, np.dot(np.diag(D), Vh)))"
   ]
  },
  {
   "cell_type": "code",
   "execution_count": 42,
   "metadata": {},
   "outputs": [
    {
     "data": {
      "text/plain": [
       "array([2.00604441, 1.22160478, 1.09816315, 0.97748473, 0.81374786,\n",
       "       0.77634993, 0.73250287, 0.65854628, 0.27985695, 0.09252313])"
      ]
     },
     "execution_count": 42,
     "metadata": {},
     "output_type": "execute_result"
    }
   ],
   "source": [
    "D"
   ]
  },
  {
   "cell_type": "markdown",
   "metadata": {},
   "source": [
    "Последний элемент сильно меньше остальных. Уберём его из матрицы, занулив. Затем Если мы перемножим наши матрицы $U, D$ и $Vh$, получим новую матрицу размером $442 \\times 10$ ранга $9$. Уберём из неё один столбец и получим новую матрицу признаков $Z \\in \\mathbb{R}^{442\\times 9}$."
   ]
  },
  {
   "cell_type": "code",
   "execution_count": 43,
   "metadata": {},
   "outputs": [],
   "source": [
    "D = D[:9]\n",
    "Vh = Vh[:9]\n",
    "U = (U.T[:9]).T\n",
    "U.shape\n",
    "Z = np.dot(U, np.dot(np.diag(D), Vh))\n",
    "Z = (Z.T[:9]).T\n",
    "Z_train, Z_test, Y_train, Y_test = train_test_split(Z, Y, train_size = 0.8, random_state=42)"
   ]
  },
  {
   "cell_type": "markdown",
   "metadata": {},
   "source": [
    "Теперь попробуем некоторые алгоритмы, которые дали хорошие результаты на данных без уменьшения размерности."
   ]
  },
  {
   "cell_type": "code",
   "execution_count": 44,
   "metadata": {},
   "outputs": [
    {
     "name": "stdout",
     "output_type": "stream",
     "text": [
      "MSE = 2870.81598415855\n",
      "MAPE = 0.31234120272441174\n"
     ]
    }
   ],
   "source": [
    "model = Ridge(alpha = 0.2)\n",
    "model.fit(Z_train, Y_train)\n",
    "Y_pred = model.predict(Z_test)\n",
    "print(\"MSE =\", mean_squared_error(Y_pred, Y_test))\n",
    "print(\"MAPE =\", mean_absolute_percentage_error(Y_pred, Y_test))"
   ]
  },
  {
   "cell_type": "code",
   "execution_count": 45,
   "metadata": {},
   "outputs": [
    {
     "name": "stdout",
     "output_type": "stream",
     "text": [
      "MSE = 2811.099199927725\n",
      "MAPE = 0.3119259513718658\n"
     ]
    },
    {
     "data": {
      "text/plain": [
       "array([   0.        , -152.80500199,  558.69065576,  310.19571558,\n",
       "         -0.        ,  -64.75658458, -267.40724215,    0.        ,\n",
       "        416.96362258])"
      ]
     },
     "execution_count": 45,
     "metadata": {},
     "output_type": "execute_result"
    }
   ],
   "source": [
    "model = Lasso(alpha = 0.1)\n",
    "model.fit(Z_train, Y_train)\n",
    "Y_pred = model.predict(Z_test)\n",
    "print(\"MSE =\", mean_squared_error(Y_pred, Y_test))\n",
    "print(\"MAPE =\", mean_absolute_percentage_error(Y_pred, Y_test))\n",
    "model.coef_"
   ]
  },
  {
   "cell_type": "code",
   "execution_count": 46,
   "metadata": {},
   "outputs": [
    {
     "name": "stdout",
     "output_type": "stream",
     "text": [
      "MSE = 2858.3909260754385\n",
      "MAPE = 0.3153711110862592\n"
     ]
    }
   ],
   "source": [
    "model = SVR(kernel = 'sigmoid', C=5)\n",
    "model.fit(Z_train, Y_train)\n",
    "Y_pred = model.predict(Z_test)\n",
    "print(\"MSE =\", mean_squared_error(Y_pred, Y_test))\n",
    "print(\"MAPE =\", mean_absolute_percentage_error(Y_pred, Y_test))"
   ]
  },
  {
   "cell_type": "code",
   "execution_count": 47,
   "metadata": {},
   "outputs": [
    {
     "name": "stdout",
     "output_type": "stream",
     "text": [
      "MSE = 2510.5900432461062\n",
      "MAPE = 0.2956763477630805\n"
     ]
    }
   ],
   "source": [
    "model = SVR(kernel = 'rbf', C = 37)\n",
    "model.fit(Z_train, Y_train)\n",
    "Y_pred = model.predict(Z_test)\n",
    "print(\"MSE =\", mean_squared_error(Y_pred, Y_test))\n",
    "print(\"MAPE =\", mean_absolute_percentage_error(Y_pred, Y_test))"
   ]
  },
  {
   "cell_type": "code",
   "execution_count": 48,
   "metadata": {},
   "outputs": [
    {
     "name": "stdout",
     "output_type": "stream",
     "text": [
      "MSE = 3172.8227456284158\n",
      "MAPE = 0.3282094538334827\n"
     ]
    }
   ],
   "source": [
    "def K_quartic(distance, h=0.1): # Квартическое\n",
    "    ret = np.array(distance) / h\n",
    "    return (1 - ret**2)**2 * (np.abs(ret) <= 1)\n",
    "\n",
    "model = FNV(kernel = lambda x: K_quartic(x, h=0.2))\n",
    "model.fit(Z_train, Y_train)\n",
    "Y_pred = model.predict(Z_test)\n",
    "print(\"MSE =\", mean_squared_error(Y_pred, Y_test))\n",
    "print(\"MAPE =\", mean_absolute_percentage_error(Y_pred, Y_test))"
   ]
  },
  {
   "cell_type": "markdown",
   "metadata": {},
   "source": [
    "Отметим, что размер окна для квартического ядра заметно уменьшился по сравнению с тем, который был до уменьшения размерности."
   ]
  },
  {
   "cell_type": "code",
   "execution_count": 49,
   "metadata": {},
   "outputs": [
    {
     "name": "stdout",
     "output_type": "stream",
     "text": [
      "MSE = 5224.4195832573105\n",
      "MAPE = 0.4118102811944167\n"
     ]
    }
   ],
   "source": [
    "def K_exp(distance): # Гауссовское\n",
    "    ret = np.array(distance)\n",
    "    return math.e ** (-2 * ret**2)\n",
    "\n",
    "model = FNV(kernel = K_exp)\n",
    "model.fit(Z_train, Y_train)\n",
    "Y_pred = model.predict(Z_test)\n",
    "print(\"MSE =\", mean_squared_error(Y_pred, Y_test))\n",
    "print(\"MAPE =\", mean_absolute_percentage_error(Y_pred, Y_test))"
   ]
  },
  {
   "cell_type": "markdown",
   "metadata": {},
   "source": [
    "### Summary"
   ]
  },
  {
   "cell_type": "markdown",
   "metadata": {},
   "source": [
    "Лучший результат и до и после отбора признаков и уменьшения размерности дало rbf ядро в методе опорных векторов. Это подтверждает его универсальность. Также неплохой результат дала линейная регрессия. "
   ]
  },
  {
   "cell_type": "markdown",
   "metadata": {},
   "source": [
    "Отбор признаков и уменьшение размерности привели к улучшению результата для линейной регрессии и SVR. Это говорит о том, что есть признаки, которые почти не влияют на результат или коррелируют с другими признаками."
   ]
  },
  {
   "cell_type": "markdown",
   "metadata": {},
   "source": [
    "Когда мы убрали лишний признкак, линейная регрессия стала давать лучший результат при меньших коэффициентах регуляризации. Это говорит о том, что признаки меньше стали коррелировать, и веса растут не так быстро."
   ]
  },
  {
   "cell_type": "markdown",
   "metadata": {},
   "source": [
    "Наменьшее значение $MSE$, которую получили среди всех этих методов --- $MSE \\approx 2389$. Достигнуто на SVR после того как был убран один из признаков. При этом $MAPE \\approx 0.3$. Целевой признак в нашей выборке пробегает значения от $25$ до $346$. То есть, даже лучшая из наших моделей предсказыает довольно грубо. Значит, для нормального предсказания надо выбрать более сложные модели."
   ]
  },
  {
   "cell_type": "code",
   "execution_count": null,
   "metadata": {},
   "outputs": [],
   "source": []
  }
 ],
 "metadata": {
  "kernelspec": {
   "display_name": "Python 3",
   "language": "python",
   "name": "python3"
  },
  "language_info": {
   "codemirror_mode": {
    "name": "ipython",
    "version": 3
   },
   "file_extension": ".py",
   "mimetype": "text/x-python",
   "name": "python",
   "nbconvert_exporter": "python",
   "pygments_lexer": "ipython3",
   "version": "3.8.3"
  }
 },
 "nbformat": 4,
 "nbformat_minor": 4
}
